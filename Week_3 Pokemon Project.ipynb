{
 "cells": [
  {
   "cell_type": "markdown",
   "metadata": {},
   "source": [
    " # Version with class"
   ]
  },
  {
   "cell_type": "code",
   "execution_count": 227,
   "metadata": {},
   "outputs": [],
   "source": [
    "import requests, json\n",
    "\n",
    "response1 = requests.get('https://pokeapi.co/api/v2/pokemon/')\n",
    "data1 = response1.json()['results']\n",
    "response3 = requests.get('https://pokeapi.co/api/v2/pokemon?offset=20&limit=1050') #all 1050 Pokemons\n",
    "data3 = response3.json()\n",
    "\n",
    "class Pokemon:\n",
    "    _all = []\n",
    "    \n",
    "    def __init__(self, poke_type, name, abilities, weight):\n",
    "        self.poke_type = poke_type\n",
    "        self.name = name\n",
    "        self.abilities = abilities\n",
    "        self.weight = weight\n",
    "        self.all.append(self)\n",
    "        \n",
    "    def __repr__(self):\n",
    "        return f\"Type: {self.poke_type} | Pokemon: {self.name} | Abilities: {self.abilities} | Weight: {self.weight}\"    \n",
    "            \n",
    "    def add_pokemon(self, new_pokemon):       \n",
    "        poke_dict = {}\n",
    "        poke_name = new_pokemon\n",
    "        for i in data3:\n",
    "            if poke_name == data1[i]:\n",
    "                poke_dict[poke_name] = {\n",
    "                        'type': data2['types'][0]['type']['name'],\n",
    "                        'abilities': data2['abilities'][0]['ability']['name'],\n",
    "                        'weight': data2['weight']\n",
    "                }\n",
    "                self._all.append(poke_dict)\n",
    "                \n",
    "    @classmethod\n",
    "    def get_them_all(self):\n",
    "        for i in range(len(Pokemon._all)):\n",
    "            print(\"\\n\")\n",
    "            print(Pokemon._all[i])\n",
    "            print(\"-\" * 80)\n",
    "            \n",
    "for i in data1:\n",
    "    poke_dict = {}\n",
    "    poke_name = i['name']\n",
    "    response2 = requests.get(i['url'])\n",
    "    data2 = response2.json()\n",
    "    poke_type = data2['types'][0]['type']['name']\n",
    "    poke_dict[poke_name] = {\n",
    "        'type': data2['types'][0]['type']['name'],\n",
    "        'abilities': data2['abilities'][0]['ability']['name'],\n",
    "        'weight': data2['weight']\n",
    "    }\n",
    "    Pokemon._all.append(poke_dict)\n",
    "    \n",
    "# (poke_dict['name'], poke_dict['poke_type'], poke_dict['abilities'], poke_dict['weight'])\n",
    "        \n"
   ]
  },
  {
   "cell_type": "code",
   "execution_count": 231,
   "metadata": {},
   "outputs": [],
   "source": [
    "# Pokemon.get_them_all()"
   ]
  },
  {
   "cell_type": "code",
   "execution_count": 230,
   "metadata": {},
   "outputs": [
    {
     "ename": "TypeError",
     "evalue": "add_pokemon() missing 1 required positional argument: 'new_pokemon'",
     "output_type": "error",
     "traceback": [
      "\u001b[0;31m---------------------------------------------------------------------------\u001b[0m",
      "\u001b[0;31mTypeError\u001b[0m                                 Traceback (most recent call last)",
      "\u001b[0;32m<ipython-input-230-1efe624403a7>\u001b[0m in \u001b[0;36m<module>\u001b[0;34m\u001b[0m\n\u001b[0;32m----> 1\u001b[0;31m \u001b[0mPokemon\u001b[0m\u001b[0;34m.\u001b[0m\u001b[0madd_pokemon\u001b[0m\u001b[0;34m(\u001b[0m\u001b[0;34m'arbok'\u001b[0m\u001b[0;34m)\u001b[0m\u001b[0;34m\u001b[0m\u001b[0;34m\u001b[0m\u001b[0m\n\u001b[0m",
      "\u001b[0;31mTypeError\u001b[0m: add_pokemon() missing 1 required positional argument: 'new_pokemon'"
     ]
    }
   ],
   "source": [
    "Pokemon.add_pokemon('arbok')"
   ]
  },
  {
   "cell_type": "markdown",
   "metadata": {},
   "source": [
    "# version 2 \n",
    "tried to create a 'type' dictionary that holds 'poke_name' dictionary but I could not make it work"
   ]
  },
  {
   "cell_type": "code",
   "execution_count": 224,
   "metadata": {},
   "outputs": [],
   "source": [
    "import requests, json\n",
    "\n",
    "response1 = requests.get('https://pokeapi.co/api/v2/pokemon/')\n",
    "data1 = response1.json()['results']\n",
    "\n",
    "pokemons = []\n",
    "\n",
    "for i in data1:\n",
    "    type_dict = {}\n",
    "    poke_name = i['name']\n",
    "    response2 = requests.get(i['url'])\n",
    "    data2 = response2.json()\n",
    "    poke_type = data2['types'][0]['type']['name']\n",
    "    type_dict[poke-type] = {\n",
    "        poke_name : {\n",
    "            'abilities': data2['abilities'][0]['ability']['name'],\n",
    "            'weight': data2['weight'],\n",
    "        },\n",
    "    }         \n",
    "    \n",
    "    pokemons.append(type_dict)\n",
    "        \n",
    "pokemons  "
   ]
  },
  {
   "cell_type": "markdown",
   "metadata": {},
   "source": [
    "# version 3\n",
    "'type' not key of the dictionary. It works but no class, no pokemon type key."
   ]
  },
  {
   "cell_type": "code",
   "execution_count": 225,
   "metadata": {},
   "outputs": [],
   "source": [
    "import requests, json\n",
    "\n",
    "response1 = requests.get('https://pokeapi.co/api/v2/pokemon/')\n",
    "data1 = response1.json()['results']\n",
    "\n",
    "pokemons = []\n",
    "\n",
    "for i in data1:\n",
    "    poke_dict = {}\n",
    "    poke_name = i['name']\n",
    "    response2 = requests.get(i['url'])\n",
    "    data2 = response2.json()\n",
    "    poke_type = data2['types'][0]['type']['name']\n",
    "    poke_dict[poke_name] = {\n",
    "        'type': data2['types'][0]['type']['name'],\n",
    "        'abilities': data2['abilities'][0]['ability']['name'],\n",
    "        'weight': data2['weight']\n",
    "    }\n",
    "    pokemons.append(poke_dict)\n",
    "        \n",
    "pokemons  "
   ]
  },
  {
   "cell_type": "code",
   "execution_count": null,
   "metadata": {},
   "outputs": [],
   "source": [
    "# this is how I was trying to add more than one abilites\n",
    "\n",
    "#     abili_t = []\n",
    "#     for k in data2['abilities']:\n",
    "#         while ['ability'] == True:\n",
    "#             abili_t.append(k)\n",
    "#             print(abili_t)  "
   ]
  }
 ],
 "metadata": {
  "kernelspec": {
   "display_name": "Python 3",
   "language": "python",
   "name": "python3"
  },
  "language_info": {
   "codemirror_mode": {
    "name": "ipython",
    "version": 3
   },
   "file_extension": ".py",
   "mimetype": "text/x-python",
   "name": "python",
   "nbconvert_exporter": "python",
   "pygments_lexer": "ipython3",
   "version": "3.7.6"
  }
 },
 "nbformat": 4,
 "nbformat_minor": 4
}
